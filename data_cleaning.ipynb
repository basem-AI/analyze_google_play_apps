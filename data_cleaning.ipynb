{
 "cells": [
  {
   "cell_type": "code",
   "execution_count": 2,
   "metadata": {},
   "outputs": [],
   "source": [
    "import numpy as np \n",
    "import pandas as pd\n",
    "import os\n",
    "import re\n",
    "import warnings\n",
    "#import pandas_profiling\n",
    "warnings.filterwarnings('ignore')"
   ]
  },
  {
   "cell_type": "code",
   "execution_count": 3,
   "metadata": {},
   "outputs": [
    {
     "data": {
      "text/html": [
       "<div>\n",
       "<style scoped>\n",
       "    .dataframe tbody tr th:only-of-type {\n",
       "        vertical-align: middle;\n",
       "    }\n",
       "\n",
       "    .dataframe tbody tr th {\n",
       "        vertical-align: top;\n",
       "    }\n",
       "\n",
       "    .dataframe thead th {\n",
       "        text-align: right;\n",
       "    }\n",
       "</style>\n",
       "<table border=\"1\" class=\"dataframe\">\n",
       "  <thead>\n",
       "    <tr style=\"text-align: right;\">\n",
       "      <th></th>\n",
       "      <th>App</th>\n",
       "      <th>Category</th>\n",
       "      <th>Rating</th>\n",
       "      <th>Reviews</th>\n",
       "      <th>Size</th>\n",
       "      <th>Installs</th>\n",
       "      <th>Type</th>\n",
       "      <th>Price</th>\n",
       "      <th>Content Rating</th>\n",
       "      <th>Genres</th>\n",
       "      <th>Last Updated</th>\n",
       "      <th>Current Ver</th>\n",
       "      <th>Android Ver</th>\n",
       "    </tr>\n",
       "  </thead>\n",
       "  <tbody>\n",
       "    <tr>\n",
       "      <th>0</th>\n",
       "      <td>Photo Editor &amp; Candy Camera &amp; Grid &amp; ScrapBook</td>\n",
       "      <td>ART_AND_DESIGN</td>\n",
       "      <td>4.1</td>\n",
       "      <td>159</td>\n",
       "      <td>19M</td>\n",
       "      <td>10,000+</td>\n",
       "      <td>Free</td>\n",
       "      <td>0</td>\n",
       "      <td>Everyone</td>\n",
       "      <td>Art &amp; Design</td>\n",
       "      <td>January 7, 2018</td>\n",
       "      <td>1.0.0</td>\n",
       "      <td>4.0.3 and up</td>\n",
       "    </tr>\n",
       "    <tr>\n",
       "      <th>1</th>\n",
       "      <td>Coloring book moana</td>\n",
       "      <td>ART_AND_DESIGN</td>\n",
       "      <td>3.9</td>\n",
       "      <td>967</td>\n",
       "      <td>14M</td>\n",
       "      <td>500,000+</td>\n",
       "      <td>Free</td>\n",
       "      <td>0</td>\n",
       "      <td>Everyone</td>\n",
       "      <td>Art &amp; Design;Pretend Play</td>\n",
       "      <td>January 15, 2018</td>\n",
       "      <td>2.0.0</td>\n",
       "      <td>4.0.3 and up</td>\n",
       "    </tr>\n",
       "    <tr>\n",
       "      <th>2</th>\n",
       "      <td>U Launcher Lite – FREE Live Cool Themes, Hide ...</td>\n",
       "      <td>ART_AND_DESIGN</td>\n",
       "      <td>4.7</td>\n",
       "      <td>87510</td>\n",
       "      <td>8.7M</td>\n",
       "      <td>5,000,000+</td>\n",
       "      <td>Free</td>\n",
       "      <td>0</td>\n",
       "      <td>Everyone</td>\n",
       "      <td>Art &amp; Design</td>\n",
       "      <td>August 1, 2018</td>\n",
       "      <td>1.2.4</td>\n",
       "      <td>4.0.3 and up</td>\n",
       "    </tr>\n",
       "    <tr>\n",
       "      <th>3</th>\n",
       "      <td>Sketch - Draw &amp; Paint</td>\n",
       "      <td>ART_AND_DESIGN</td>\n",
       "      <td>4.5</td>\n",
       "      <td>215644</td>\n",
       "      <td>25M</td>\n",
       "      <td>50,000,000+</td>\n",
       "      <td>Free</td>\n",
       "      <td>0</td>\n",
       "      <td>Teen</td>\n",
       "      <td>Art &amp; Design</td>\n",
       "      <td>June 8, 2018</td>\n",
       "      <td>Varies with device</td>\n",
       "      <td>4.2 and up</td>\n",
       "    </tr>\n",
       "    <tr>\n",
       "      <th>4</th>\n",
       "      <td>Pixel Draw - Number Art Coloring Book</td>\n",
       "      <td>ART_AND_DESIGN</td>\n",
       "      <td>4.3</td>\n",
       "      <td>967</td>\n",
       "      <td>2.8M</td>\n",
       "      <td>100,000+</td>\n",
       "      <td>Free</td>\n",
       "      <td>0</td>\n",
       "      <td>Everyone</td>\n",
       "      <td>Art &amp; Design;Creativity</td>\n",
       "      <td>June 20, 2018</td>\n",
       "      <td>1.1</td>\n",
       "      <td>4.4 and up</td>\n",
       "    </tr>\n",
       "  </tbody>\n",
       "</table>\n",
       "</div>"
      ],
      "text/plain": [
       "                                                 App        Category  Rating  \\\n",
       "0     Photo Editor & Candy Camera & Grid & ScrapBook  ART_AND_DESIGN     4.1   \n",
       "1                                Coloring book moana  ART_AND_DESIGN     3.9   \n",
       "2  U Launcher Lite – FREE Live Cool Themes, Hide ...  ART_AND_DESIGN     4.7   \n",
       "3                              Sketch - Draw & Paint  ART_AND_DESIGN     4.5   \n",
       "4              Pixel Draw - Number Art Coloring Book  ART_AND_DESIGN     4.3   \n",
       "\n",
       "  Reviews  Size     Installs  Type Price Content Rating  \\\n",
       "0     159   19M      10,000+  Free     0       Everyone   \n",
       "1     967   14M     500,000+  Free     0       Everyone   \n",
       "2   87510  8.7M   5,000,000+  Free     0       Everyone   \n",
       "3  215644   25M  50,000,000+  Free     0           Teen   \n",
       "4     967  2.8M     100,000+  Free     0       Everyone   \n",
       "\n",
       "                      Genres      Last Updated         Current Ver  \\\n",
       "0               Art & Design   January 7, 2018               1.0.0   \n",
       "1  Art & Design;Pretend Play  January 15, 2018               2.0.0   \n",
       "2               Art & Design    August 1, 2018               1.2.4   \n",
       "3               Art & Design      June 8, 2018  Varies with device   \n",
       "4    Art & Design;Creativity     June 20, 2018                 1.1   \n",
       "\n",
       "    Android Ver  \n",
       "0  4.0.3 and up  \n",
       "1  4.0.3 and up  \n",
       "2  4.0.3 and up  \n",
       "3    4.2 and up  \n",
       "4    4.4 and up  "
      ]
     },
     "execution_count": 3,
     "metadata": {},
     "output_type": "execute_result"
    }
   ],
   "source": [
    "raw_data= pd.read_csv('play_raw_data.csv')\n",
    "raw_data.head()\n"
   ]
  },
  {
   "cell_type": "code",
   "execution_count": 25,
   "metadata": {},
   "outputs": [],
   "source": [
    "# import pandas_profiling\n",
    "#pandas_profiling.ProfileReport(raw_data)"
   ]
  },
  {
   "cell_type": "code",
   "execution_count": 4,
   "metadata": {},
   "outputs": [
    {
     "data": {
      "text/plain": [
       "(10841, 13)"
      ]
     },
     "execution_count": 4,
     "metadata": {},
     "output_type": "execute_result"
    }
   ],
   "source": [
    "raw_data.shape"
   ]
  },
  {
   "cell_type": "code",
   "execution_count": 5,
   "metadata": {},
   "outputs": [
    {
     "name": "stdout",
     "output_type": "stream",
     "text": [
      "<class 'pandas.core.frame.DataFrame'>\n",
      "RangeIndex: 10841 entries, 0 to 10840\n",
      "Data columns (total 13 columns):\n",
      " #   Column          Non-Null Count  Dtype  \n",
      "---  ------          --------------  -----  \n",
      " 0   App             10841 non-null  object \n",
      " 1   Category        10841 non-null  object \n",
      " 2   Rating          9367 non-null   float64\n",
      " 3   Reviews         10841 non-null  object \n",
      " 4   Size            10841 non-null  object \n",
      " 5   Installs        10841 non-null  object \n",
      " 6   Type            10840 non-null  object \n",
      " 7   Price           10841 non-null  object \n",
      " 8   Content Rating  10840 non-null  object \n",
      " 9   Genres          10841 non-null  object \n",
      " 10  Last Updated    10841 non-null  object \n",
      " 11  Current Ver     10833 non-null  object \n",
      " 12  Android Ver     10838 non-null  object \n",
      "dtypes: float64(1), object(12)\n",
      "memory usage: 1.1+ MB\n"
     ]
    }
   ],
   "source": [
    "raw_data.info()"
   ]
  },
  {
   "cell_type": "markdown",
   "metadata": {},
   "source": [
    "# Data Cleaning\n",
    "\n",
    "The size of the raw data is 10841x13 with 1487 missing values, and 483 duplicates.\n",
    "after cleaning, we get a new dataset 10829x13 which we will work on consists of:\n",
    "   ## * Categorical veribles: \n",
    "App, Category, type, Conten Rating, Genres, last Update, current ver, min_andriod_version\n",
    "   ## * Real number:\n",
    "Rating, Size, Install_num, price_usd, previews_count"
   ]
  },
  {
   "cell_type": "code",
   "execution_count": 6,
   "metadata": {},
   "outputs": [
    {
     "data": {
      "text/plain": [
       "App                  0\n",
       "Category             0\n",
       "Rating            1474\n",
       "Reviews              0\n",
       "Size                 0\n",
       "Installs             0\n",
       "Type                 1\n",
       "Price                0\n",
       "Content Rating       1\n",
       "Genres               0\n",
       "Last Updated         0\n",
       "Current Ver          8\n",
       "Android Ver          3\n",
       "dtype: int64"
      ]
     },
     "execution_count": 6,
     "metadata": {},
     "output_type": "execute_result"
    }
   ],
   "source": [
    "raw_data.isna().sum()"
   ]
  },
  {
   "cell_type": "code",
   "execution_count": 7,
   "metadata": {},
   "outputs": [
    {
     "data": {
      "text/plain": [
       "App               0\n",
       "Category          0\n",
       "Rating            0\n",
       "Reviews           0\n",
       "Size              0\n",
       "Installs          0\n",
       "Type              1\n",
       "Price             0\n",
       "Content Rating    1\n",
       "Genres            0\n",
       "Last Updated      0\n",
       "Current Ver       8\n",
       "Android Ver       3\n",
       "dtype: int64"
      ]
     },
     "execution_count": 7,
     "metadata": {},
     "output_type": "execute_result"
    }
   ],
   "source": [
    "# the 1474 missing values in Rating are replaced by the mean of the Rating\n",
    "raw_data['Rating'].fillna(raw_data['Rating'].mean(), inplace= True)\n",
    "raw_data.isna().sum()"
   ]
  },
  {
   "cell_type": "code",
   "execution_count": 8,
   "metadata": {},
   "outputs": [
    {
     "data": {
      "text/plain": [
       "App               0\n",
       "Category          0\n",
       "Rating            0\n",
       "Reviews           0\n",
       "Size              0\n",
       "Installs          0\n",
       "Type              0\n",
       "Price             0\n",
       "Content Rating    0\n",
       "Genres            0\n",
       "Last Updated      0\n",
       "Current Ver       0\n",
       "Android Ver       0\n",
       "dtype: int64"
      ]
     },
     "execution_count": 8,
     "metadata": {},
     "output_type": "execute_result"
    }
   ],
   "source": [
    "# droping the rest of missing\n",
    "df = raw_data.dropna()\n",
    "df.isna().sum()"
   ]
  },
  {
   "cell_type": "code",
   "execution_count": 9,
   "metadata": {},
   "outputs": [
    {
     "data": {
      "text/plain": [
       "(10829, 13)"
      ]
     },
     "execution_count": 9,
     "metadata": {},
     "output_type": "execute_result"
    }
   ],
   "source": [
    "df.shape"
   ]
  },
  {
   "cell_type": "code",
   "execution_count": 10,
   "metadata": {},
   "outputs": [
    {
     "data": {
      "text/html": [
       "<div>\n",
       "<style scoped>\n",
       "    .dataframe tbody tr th:only-of-type {\n",
       "        vertical-align: middle;\n",
       "    }\n",
       "\n",
       "    .dataframe tbody tr th {\n",
       "        vertical-align: top;\n",
       "    }\n",
       "\n",
       "    .dataframe thead th {\n",
       "        text-align: right;\n",
       "    }\n",
       "</style>\n",
       "<table border=\"1\" class=\"dataframe\">\n",
       "  <thead>\n",
       "    <tr style=\"text-align: right;\">\n",
       "      <th></th>\n",
       "      <th>App</th>\n",
       "      <th>Category</th>\n",
       "      <th>Rating</th>\n",
       "      <th>Reviews</th>\n",
       "      <th>Size</th>\n",
       "      <th>Installs</th>\n",
       "      <th>Type</th>\n",
       "      <th>Price</th>\n",
       "      <th>Content Rating</th>\n",
       "      <th>Genres</th>\n",
       "      <th>Last Updated</th>\n",
       "      <th>Current Ver</th>\n",
       "      <th>Android Ver</th>\n",
       "    </tr>\n",
       "  </thead>\n",
       "  <tbody>\n",
       "    <tr>\n",
       "      <th>229</th>\n",
       "      <td>Quick PDF Scanner + OCR FREE</td>\n",
       "      <td>BUSINESS</td>\n",
       "      <td>4.2</td>\n",
       "      <td>80805</td>\n",
       "      <td>Varies with device</td>\n",
       "      <td>5,000,000+</td>\n",
       "      <td>Free</td>\n",
       "      <td>0</td>\n",
       "      <td>Everyone</td>\n",
       "      <td>Business</td>\n",
       "      <td>February 26, 2018</td>\n",
       "      <td>Varies with device</td>\n",
       "      <td>4.0.3 and up</td>\n",
       "    </tr>\n",
       "    <tr>\n",
       "      <th>236</th>\n",
       "      <td>Box</td>\n",
       "      <td>BUSINESS</td>\n",
       "      <td>4.2</td>\n",
       "      <td>159872</td>\n",
       "      <td>Varies with device</td>\n",
       "      <td>10,000,000+</td>\n",
       "      <td>Free</td>\n",
       "      <td>0</td>\n",
       "      <td>Everyone</td>\n",
       "      <td>Business</td>\n",
       "      <td>July 31, 2018</td>\n",
       "      <td>Varies with device</td>\n",
       "      <td>Varies with device</td>\n",
       "    </tr>\n",
       "    <tr>\n",
       "      <th>239</th>\n",
       "      <td>Google My Business</td>\n",
       "      <td>BUSINESS</td>\n",
       "      <td>4.4</td>\n",
       "      <td>70991</td>\n",
       "      <td>Varies with device</td>\n",
       "      <td>5,000,000+</td>\n",
       "      <td>Free</td>\n",
       "      <td>0</td>\n",
       "      <td>Everyone</td>\n",
       "      <td>Business</td>\n",
       "      <td>July 24, 2018</td>\n",
       "      <td>2.19.0.204537701</td>\n",
       "      <td>4.4 and up</td>\n",
       "    </tr>\n",
       "    <tr>\n",
       "      <th>256</th>\n",
       "      <td>ZOOM Cloud Meetings</td>\n",
       "      <td>BUSINESS</td>\n",
       "      <td>4.4</td>\n",
       "      <td>31614</td>\n",
       "      <td>37M</td>\n",
       "      <td>10,000,000+</td>\n",
       "      <td>Free</td>\n",
       "      <td>0</td>\n",
       "      <td>Everyone</td>\n",
       "      <td>Business</td>\n",
       "      <td>July 20, 2018</td>\n",
       "      <td>4.1.28165.0716</td>\n",
       "      <td>4.0 and up</td>\n",
       "    </tr>\n",
       "    <tr>\n",
       "      <th>261</th>\n",
       "      <td>join.me - Simple Meetings</td>\n",
       "      <td>BUSINESS</td>\n",
       "      <td>4.0</td>\n",
       "      <td>6989</td>\n",
       "      <td>Varies with device</td>\n",
       "      <td>1,000,000+</td>\n",
       "      <td>Free</td>\n",
       "      <td>0</td>\n",
       "      <td>Everyone</td>\n",
       "      <td>Business</td>\n",
       "      <td>July 16, 2018</td>\n",
       "      <td>4.3.0.508</td>\n",
       "      <td>4.4 and up</td>\n",
       "    </tr>\n",
       "    <tr>\n",
       "      <th>...</th>\n",
       "      <td>...</td>\n",
       "      <td>...</td>\n",
       "      <td>...</td>\n",
       "      <td>...</td>\n",
       "      <td>...</td>\n",
       "      <td>...</td>\n",
       "      <td>...</td>\n",
       "      <td>...</td>\n",
       "      <td>...</td>\n",
       "      <td>...</td>\n",
       "      <td>...</td>\n",
       "      <td>...</td>\n",
       "      <td>...</td>\n",
       "    </tr>\n",
       "    <tr>\n",
       "      <th>10715</th>\n",
       "      <td>FarmersOnly Dating</td>\n",
       "      <td>DATING</td>\n",
       "      <td>3.0</td>\n",
       "      <td>1145</td>\n",
       "      <td>1.4M</td>\n",
       "      <td>100,000+</td>\n",
       "      <td>Free</td>\n",
       "      <td>0</td>\n",
       "      <td>Mature 17+</td>\n",
       "      <td>Dating</td>\n",
       "      <td>February 25, 2016</td>\n",
       "      <td>2.2</td>\n",
       "      <td>4.0 and up</td>\n",
       "    </tr>\n",
       "    <tr>\n",
       "      <th>10720</th>\n",
       "      <td>Firefox Focus: The privacy browser</td>\n",
       "      <td>COMMUNICATION</td>\n",
       "      <td>4.4</td>\n",
       "      <td>36981</td>\n",
       "      <td>4.0M</td>\n",
       "      <td>1,000,000+</td>\n",
       "      <td>Free</td>\n",
       "      <td>0</td>\n",
       "      <td>Everyone</td>\n",
       "      <td>Communication</td>\n",
       "      <td>July 6, 2018</td>\n",
       "      <td>5.2</td>\n",
       "      <td>5.0 and up</td>\n",
       "    </tr>\n",
       "    <tr>\n",
       "      <th>10730</th>\n",
       "      <td>FP Notebook</td>\n",
       "      <td>MEDICAL</td>\n",
       "      <td>4.5</td>\n",
       "      <td>410</td>\n",
       "      <td>60M</td>\n",
       "      <td>50,000+</td>\n",
       "      <td>Free</td>\n",
       "      <td>0</td>\n",
       "      <td>Everyone</td>\n",
       "      <td>Medical</td>\n",
       "      <td>March 24, 2018</td>\n",
       "      <td>2.1.0.372</td>\n",
       "      <td>4.4 and up</td>\n",
       "    </tr>\n",
       "    <tr>\n",
       "      <th>10753</th>\n",
       "      <td>Slickdeals: Coupons &amp; Shopping</td>\n",
       "      <td>SHOPPING</td>\n",
       "      <td>4.5</td>\n",
       "      <td>33599</td>\n",
       "      <td>12M</td>\n",
       "      <td>1,000,000+</td>\n",
       "      <td>Free</td>\n",
       "      <td>0</td>\n",
       "      <td>Everyone</td>\n",
       "      <td>Shopping</td>\n",
       "      <td>July 30, 2018</td>\n",
       "      <td>3.9</td>\n",
       "      <td>4.4 and up</td>\n",
       "    </tr>\n",
       "    <tr>\n",
       "      <th>10768</th>\n",
       "      <td>AAFP</td>\n",
       "      <td>MEDICAL</td>\n",
       "      <td>3.8</td>\n",
       "      <td>63</td>\n",
       "      <td>24M</td>\n",
       "      <td>10,000+</td>\n",
       "      <td>Free</td>\n",
       "      <td>0</td>\n",
       "      <td>Everyone</td>\n",
       "      <td>Medical</td>\n",
       "      <td>June 22, 2018</td>\n",
       "      <td>2.3.1</td>\n",
       "      <td>5.0 and up</td>\n",
       "    </tr>\n",
       "  </tbody>\n",
       "</table>\n",
       "<p>1181 rows × 13 columns</p>\n",
       "</div>"
      ],
      "text/plain": [
       "                                      App       Category  Rating Reviews  \\\n",
       "229          Quick PDF Scanner + OCR FREE       BUSINESS     4.2   80805   \n",
       "236                                   Box       BUSINESS     4.2  159872   \n",
       "239                    Google My Business       BUSINESS     4.4   70991   \n",
       "256                   ZOOM Cloud Meetings       BUSINESS     4.4   31614   \n",
       "261             join.me - Simple Meetings       BUSINESS     4.0    6989   \n",
       "...                                   ...            ...     ...     ...   \n",
       "10715                  FarmersOnly Dating         DATING     3.0    1145   \n",
       "10720  Firefox Focus: The privacy browser  COMMUNICATION     4.4   36981   \n",
       "10730                         FP Notebook        MEDICAL     4.5     410   \n",
       "10753      Slickdeals: Coupons & Shopping       SHOPPING     4.5   33599   \n",
       "10768                                AAFP        MEDICAL     3.8      63   \n",
       "\n",
       "                     Size     Installs  Type Price Content Rating  \\\n",
       "229    Varies with device   5,000,000+  Free     0       Everyone   \n",
       "236    Varies with device  10,000,000+  Free     0       Everyone   \n",
       "239    Varies with device   5,000,000+  Free     0       Everyone   \n",
       "256                   37M  10,000,000+  Free     0       Everyone   \n",
       "261    Varies with device   1,000,000+  Free     0       Everyone   \n",
       "...                   ...          ...   ...   ...            ...   \n",
       "10715                1.4M     100,000+  Free     0     Mature 17+   \n",
       "10720                4.0M   1,000,000+  Free     0       Everyone   \n",
       "10730                 60M      50,000+  Free     0       Everyone   \n",
       "10753                 12M   1,000,000+  Free     0       Everyone   \n",
       "10768                 24M      10,000+  Free     0       Everyone   \n",
       "\n",
       "              Genres       Last Updated         Current Ver  \\\n",
       "229         Business  February 26, 2018  Varies with device   \n",
       "236         Business      July 31, 2018  Varies with device   \n",
       "239         Business      July 24, 2018    2.19.0.204537701   \n",
       "256         Business      July 20, 2018      4.1.28165.0716   \n",
       "261         Business      July 16, 2018           4.3.0.508   \n",
       "...              ...                ...                 ...   \n",
       "10715         Dating  February 25, 2016                 2.2   \n",
       "10720  Communication       July 6, 2018                 5.2   \n",
       "10730        Medical     March 24, 2018           2.1.0.372   \n",
       "10753       Shopping      July 30, 2018                 3.9   \n",
       "10768        Medical      June 22, 2018               2.3.1   \n",
       "\n",
       "              Android Ver  \n",
       "229          4.0.3 and up  \n",
       "236    Varies with device  \n",
       "239            4.4 and up  \n",
       "256            4.0 and up  \n",
       "261            4.4 and up  \n",
       "...                   ...  \n",
       "10715          4.0 and up  \n",
       "10720          5.0 and up  \n",
       "10730          4.4 and up  \n",
       "10753          4.4 and up  \n",
       "10768          5.0 and up  \n",
       "\n",
       "[1181 rows x 13 columns]"
      ]
     },
     "execution_count": 10,
     "metadata": {},
     "output_type": "execute_result"
    }
   ],
   "source": [
    "# checking for duplicated apps\n",
    "df[df.duplicated(['App'])]"
   ]
  },
  {
   "cell_type": "code",
   "execution_count": 11,
   "metadata": {},
   "outputs": [],
   "source": [
    "df.sort_values(by=['Reviews'], inplace =True)"
   ]
  },
  {
   "cell_type": "code",
   "execution_count": 12,
   "metadata": {},
   "outputs": [],
   "source": [
    "#dropping the duplicates based on the app name\n",
    "df = df.drop_duplicates(keep='last', subset='App')"
   ]
  },
  {
   "cell_type": "code",
   "execution_count": 13,
   "metadata": {},
   "outputs": [
    {
     "data": {
      "text/plain": [
       "array(['1,000+', '500+', '100+', '50+', '1+', '5+', '10+', '10,000+',\n",
       "       '0+', '50,000+', '100,000+', '5,000+', '1,000,000+', '5,000,000+',\n",
       "       '10,000,000+', '100,000,000+', '50,000,000+', '500,000+',\n",
       "       '1,000,000,000+', '500,000,000+'], dtype=object)"
      ]
     },
     "execution_count": 13,
     "metadata": {},
     "output_type": "execute_result"
    }
   ],
   "source": [
    "# preprocessing Installs column a& converting into float num\n",
    "df['Installs'].unique()"
   ]
  },
  {
   "cell_type": "code",
   "execution_count": 14,
   "metadata": {},
   "outputs": [
    {
     "data": {
      "text/plain": [
       "array([1.e+03, 5.e+02, 1.e+02, 5.e+01, 1.e+00, 5.e+00, 1.e+01, 1.e+04,\n",
       "       0.e+00, 5.e+04, 1.e+05, 5.e+03, 1.e+06, 5.e+06, 1.e+07, 1.e+08,\n",
       "       5.e+07, 5.e+05, 1.e+09, 5.e+08])"
      ]
     },
     "execution_count": 14,
     "metadata": {},
     "output_type": "execute_result"
    }
   ],
   "source": [
    "df['Install_num'] = df['Installs'].apply(lambda x: float(x.split('+')[0].replace(',','')))\n",
    "df['Install_num'].unique()"
   ]
  },
  {
   "cell_type": "code",
   "execution_count": 15,
   "metadata": {},
   "outputs": [
    {
     "data": {
      "text/plain": [
       "array(['0', '$2.99', '$3.99', '$1.49', '$0.99', '$1.99', '$13.99',\n",
       "       '$25.99', '$2.00', '$2.49', '$39.99', '$19.99', '$5.99', '$4.99',\n",
       "       '$28.99', '$399.99', '$394.99', '$200.00', '$30.99', '$3.61',\n",
       "       '$8.99', '$109.99', '$1.04', '$154.99', '$1.96', '$14.99', '$6.49',\n",
       "       '$5.49', '$4.85', '$3.49', '$29.99', '$3.04', '$12.99', '$3.88',\n",
       "       '$74.99', '$15.99', '$7.99', '$9.99', '$9.00', '$4.60', '$6.99',\n",
       "       '$16.99', '$8.49', '$1.61', '$37.99', '$4.49', '$4.84', '$2.59',\n",
       "       '$1.20', '$3.28', '$1.00', '$11.99', '$10.99', '$3.95', '$24.99',\n",
       "       '$14.00', '$10.00', '$2.50', '$3.90', '$1.76', '$46.99', '$33.99',\n",
       "       '$389.99', '$4.59', '$400.00', '$17.99', '$4.77', '$4.80',\n",
       "       '$19.90', '$2.60', '$1.26', '$7.49', '$1.97', '$2.95', '$15.46',\n",
       "       '$2.56', '$379.99', '$299.99', '$18.99', '$3.08', '$1.75', '$5.00',\n",
       "       '$19.40', '$2.90', '$1.70', '$89.99', '$3.02', '$1.59', '$1.29',\n",
       "       '$1.50', '$4.29', '$79.99'], dtype=object)"
      ]
     },
     "execution_count": 15,
     "metadata": {},
     "output_type": "execute_result"
    }
   ],
   "source": [
    "# preprocessing price column & con´verting into USD\n",
    "df['Price'].unique()"
   ]
  },
  {
   "cell_type": "code",
   "execution_count": 16,
   "metadata": {},
   "outputs": [
    {
     "data": {
      "text/plain": [
       "array([  0.  ,   2.99,   3.99,   1.49,   0.99,   1.99,  13.99,  25.99,\n",
       "         2.  ,   2.49,  39.99,  19.99,   5.99,   4.99,  28.99, 399.99,\n",
       "       394.99, 200.  ,  30.99,   3.61,   8.99, 109.99,   1.04, 154.99,\n",
       "         1.96,  14.99,   6.49,   5.49,   4.85,   3.49,  29.99,   3.04,\n",
       "        12.99,   3.88,  74.99,  15.99,   7.99,   9.99,   9.  ,   4.6 ,\n",
       "         6.99,  16.99,   8.49,   1.61,  37.99,   4.49,   4.84,   2.59,\n",
       "         1.2 ,   3.28,   1.  ,  11.99,  10.99,   3.95,  24.99,  14.  ,\n",
       "        10.  ,   2.5 ,   3.9 ,   1.76,  46.99,  33.99, 389.99,   4.59,\n",
       "       400.  ,  17.99,   4.77,   4.8 ,  19.9 ,   2.6 ,   1.26,   7.49,\n",
       "         1.97,   2.95,  15.46,   2.56, 379.99, 299.99,  18.99,   3.08,\n",
       "         1.75,   5.  ,  19.4 ,   2.9 ,   1.7 ,  89.99,   3.02,   1.59,\n",
       "         1.29,   1.5 ,   4.29,  79.99])"
      ]
     },
     "execution_count": 16,
     "metadata": {},
     "output_type": "execute_result"
    }
   ],
   "source": [
    "df['Price_usd'] = df['Price'].apply(lambda x: float(x.replace('$','')))\n",
    "df['Price_usd'].unique()"
   ]
  },
  {
   "cell_type": "code",
   "execution_count": 17,
   "metadata": {},
   "outputs": [
    {
     "data": {
      "text/plain": [
       "array(['0', '1', '10', ..., '9975', '999', '9992'], dtype=object)"
      ]
     },
     "execution_count": 17,
     "metadata": {},
     "output_type": "execute_result"
    }
   ],
   "source": [
    "df['Reviews'].unique()"
   ]
  },
  {
   "cell_type": "code",
   "execution_count": 18,
   "metadata": {},
   "outputs": [
    {
     "data": {
      "text/plain": [
       "array([   0,    1,   10, ..., 9975,  999, 9992])"
      ]
     },
     "execution_count": 18,
     "metadata": {},
     "output_type": "execute_result"
    }
   ],
   "source": [
    "# converting reviews num inton int\n",
    "df['Reviews_count'] = df['Reviews'].apply(lambda x: int(x))\n",
    "df['Reviews_count'].unique()"
   ]
  },
  {
   "cell_type": "code",
   "execution_count": 19,
   "metadata": {},
   "outputs": [
    {
     "data": {
      "text/plain": [
       "array(['10.0M', '4.1M', '29M', '18M', '9.1M', '14M', 'Varies with device',\n",
       "       '4.3M', '20M', '28M', '4.2M', '3.2M', '5.8M', '3.7M', '7.9M',\n",
       "       '4.9M', '1.7M', '1.6M', '15M', '22M', '56M', '1.1M', '26M', '11M',\n",
       "       '4.6M', '3.3M', '18k', '3.6M', '4.0M', '13M', '2.1M', '27M', '47M',\n",
       "       '5.9M', '118k', '2.9M', '45M', '43M', '5.2M', '52M', '12M', '17M',\n",
       "       '7.7M', '6.0M', '9.7M', '9.9M', '3.4M', '1.4M', '3.9M', '8.6M',\n",
       "       '10M', '2.8M', '24M', '2.3M', '16M', '35M', '30M', '25M', '7.0M',\n",
       "       '32M', '2.7M', '475k', '8.4M', '54M', '3.5M', '49M', '7.4M',\n",
       "       '6.9M', '6.6M', '42M', '8.7M', '19M', '3.0M', '1.3M', '2.5M',\n",
       "       '4.8M', '4.5M', '36M', '1.2M', '39M', '7.5M', '4.4M', '21M',\n",
       "       '7.8M', '3.8M', '7.6M', '38M', '2.6M', '8.2M', '8.0M', '92M',\n",
       "       '2.4M', '8.9M', '5.3M', '9.8M', '5.0M', '40M', '90M', '7.3M',\n",
       "       '55M', '688k', '1.8M', '9.0M', '68M', '269k', '5.7M', '2.2M',\n",
       "       '44M', '940k', '642k', '9.4M', '5.5M', '9.3M', '6.2M', '48M',\n",
       "       '33M', '8.1M', '41M', '904k', '6.4M', '2.0M', '3.1M', '5.1M',\n",
       "       '23M', '5.4M', '473k', '913k', '6.5M', '191k', '9.6M', '46M',\n",
       "       '842k', '6.7M', '8.8M', '62M', '5.6M', '1020k', '243k', '7.1M',\n",
       "       '73M', '99M', '6.3M', '8.5M', '549k', '31M', '1.5M', '172k', '34M',\n",
       "       '66M', '65M', '898k', '74M', '518k', '83M', '921k', '67M', '874k',\n",
       "       '6.1M', '75M', '7.2M', '87M', '1.0M', '9.5M', '1.9M', '9.2M',\n",
       "       '683k', '514k', '98M', '885k', '421k', '655k', '60M', '96M', '59M',\n",
       "       '663k', '63M', '51M', '64M', '717k', '516k', '378k', '53M', '94M',\n",
       "       '50M', '58M', '643k', '78M', '196k', '847k', '37M', '404k', '85M',\n",
       "       '86M', '72M', '61M', '71M', '8.3M', '84M', '69M', '6.8M', '190k',\n",
       "       '88M', '100M', '220k', '608k', '91M', '93M', '77M', '4.7M', '551k',\n",
       "       '746k', '350k', '582k', '72k', '613k', '775k', '782k', '79k',\n",
       "       '980k', '70M', '80M', '713k', '33k', '695k', '241k', '76M', '624k',\n",
       "       '942k', '500k', '143k', '58k', '57M', '429k', '27k', '778k', '97M',\n",
       "       '45k', '400k', '81M', '141k', '592k', '754k', '201k', '209k',\n",
       "       '485k', '26k', '442k', '226k', '240k', '20k', '79M', '784k',\n",
       "       '460k', '228k', '164k', '253k', '89M', '373k', '95M', '257k',\n",
       "       '29k', '779k', '743k', '293k', '82M', '375k', '144k', '170k',\n",
       "       '67k', '963k', '157k', '246k', '523k', '525k', '816k', '948k',\n",
       "       '994k', '496k', '48k', '206k', '317k', '364k', '716k', '957k',\n",
       "       '219k', '266k', '970k', '656k', '238k', '705k', '981k', '116k',\n",
       "       '78k', '730k', '200k', '376k', '210k', '103k', '899k', '811k',\n",
       "       '953k', '982k', '545k', '82k', '801k', '371k', '351k', '283k',\n",
       "       '954k', '221k', '8.5k', '173k', '860k', '872k', '44k', '478k',\n",
       "       '192k', '976k', '626k', '160k', '203k', '975k', '193k', '50k',\n",
       "       '714k', '647k', '772k', '600k', '785k', '121k', '70k', '818k',\n",
       "       '153k', '585k', '154k', '961k', '55k', '319k', '108k', '97k',\n",
       "       '14k', '887k', '721k', '318k', '540k', '454k', '208k', '74k',\n",
       "       '25k', '239k', '437k', '914k', '313k', '467k', '857k', '280k',\n",
       "       '676k', '756k', '417k', '916k', '862k', '24k', '323k', '122k',\n",
       "       '881k', '251k', '569k', '498k', '840k', '511k', '892k', '23k',\n",
       "       '306k', '986k', '353k', '930k', '554k', '34k', '526k', '619k',\n",
       "       '920k', '609k', '335k', '176k', '562k', '161k', '879k', '270k',\n",
       "       '965k', '420k', '51k', '597k', '861k', '629k', '636k', '902k',\n",
       "       '430k', '506k', '288k', '259k', '245k', '334k', '186k', '17k',\n",
       "       '903k', '28k', '314k', '704k', '41k', '458k', '89k', '234k',\n",
       "       '175k', '837k', '54k', '470k', '556k', '728k', '809k', '499k',\n",
       "       '232k', '865k', '61k', '951k', '444k', '853k', '39k', '81k',\n",
       "       '308k', '691k', '412k', '544k', '329k', '292k', '322k', '787k',\n",
       "       '812k', '749k', '414k', '459k', '601k', '309k', '939k', '780k',\n",
       "       '992k', '169k', '552k', '383k', '924k', '387k', '411k', '696k',\n",
       "       '93k', '598k', '720k', '73k', '91k'], dtype=object)"
      ]
     },
     "execution_count": 19,
     "metadata": {},
     "output_type": "execute_result"
    }
   ],
   "source": [
    "# preprocessing size column & converting into int\n",
    "df['Size'].unique()"
   ]
  },
  {
   "cell_type": "code",
   "execution_count": 20,
   "metadata": {},
   "outputs": [],
   "source": [
    "df['Size'].replace('Varies with device',np.nan,inplace=True)"
   ]
  },
  {
   "cell_type": "code",
   "execution_count": 21,
   "metadata": {},
   "outputs": [],
   "source": [
    "df[\"Size\"] = (df[\"Size\"].replace(r'[kM]+$', '', regex=True).astype(float) \n",
    "               * df[\"Size\"].str.extract(r'[\\d\\.]+([kM]+)',expand=False).fillna(1)\n",
    "               .replace([\"k\",\"M\"], [10**3, 10**6]).astype(int))\n"
   ]
  },
  {
   "cell_type": "code",
   "execution_count": 22,
   "metadata": {},
   "outputs": [],
   "source": [
    "# replav´cing the nan with the mean of the size\n",
    "df['Size'].fillna((df['Size'].mean()), inplace=True)"
   ]
  },
  {
   "cell_type": "code",
   "execution_count": 23,
   "metadata": {},
   "outputs": [
    {
     "data": {
      "text/plain": [
       "array([1.00000000e+07, 4.10000000e+06, 2.90000000e+07, 1.80000000e+07,\n",
       "       9.10000000e+06, 1.40000000e+07, 2.04117135e+07, 4.30000000e+06,\n",
       "       2.00000000e+07, 2.80000000e+07, 4.20000000e+06, 3.20000000e+06,\n",
       "       5.80000000e+06, 3.70000000e+06, 7.90000000e+06, 4.90000000e+06,\n",
       "       1.70000000e+06, 1.60000000e+06, 1.50000000e+07, 2.20000000e+07,\n",
       "       5.60000000e+07, 1.10000000e+06, 2.60000000e+07, 1.10000000e+07,\n",
       "       4.60000000e+06, 3.30000000e+06, 1.80000000e+04, 3.60000000e+06,\n",
       "       4.00000000e+06, 1.30000000e+07, 2.10000000e+06, 2.70000000e+07,\n",
       "       4.70000000e+07, 5.90000000e+06, 1.18000000e+05, 2.90000000e+06,\n",
       "       4.50000000e+07, 4.30000000e+07, 5.20000000e+06, 5.20000000e+07,\n",
       "       1.20000000e+07, 1.70000000e+07, 7.70000000e+06, 6.00000000e+06,\n",
       "       9.70000000e+06, 9.90000000e+06, 3.40000000e+06, 1.40000000e+06,\n",
       "       3.90000000e+06, 8.60000000e+06, 2.80000000e+06, 2.40000000e+07,\n",
       "       2.30000000e+06, 1.60000000e+07, 3.50000000e+07, 3.00000000e+07,\n",
       "       2.50000000e+07, 7.00000000e+06, 3.20000000e+07, 2.70000000e+06,\n",
       "       4.75000000e+05, 8.40000000e+06, 5.40000000e+07, 3.50000000e+06,\n",
       "       4.90000000e+07, 7.40000000e+06, 6.90000000e+06, 6.60000000e+06,\n",
       "       4.20000000e+07, 8.70000000e+06, 1.90000000e+07, 3.00000000e+06,\n",
       "       1.30000000e+06, 2.50000000e+06, 4.80000000e+06, 4.50000000e+06,\n",
       "       3.60000000e+07, 1.20000000e+06, 3.90000000e+07, 7.50000000e+06,\n",
       "       4.40000000e+06, 2.10000000e+07, 7.80000000e+06, 3.80000000e+06,\n",
       "       7.60000000e+06, 3.80000000e+07, 2.60000000e+06, 8.20000000e+06,\n",
       "       8.00000000e+06, 9.20000000e+07, 2.40000000e+06, 8.90000000e+06,\n",
       "       5.30000000e+06, 9.80000000e+06, 5.00000000e+06, 4.00000000e+07,\n",
       "       9.00000000e+07, 7.30000000e+06, 5.50000000e+07, 6.88000000e+05,\n",
       "       1.80000000e+06, 9.00000000e+06, 6.80000000e+07, 2.69000000e+05,\n",
       "       5.70000000e+06, 2.20000000e+06, 4.40000000e+07, 9.40000000e+05,\n",
       "       6.42000000e+05, 9.40000000e+06, 5.50000000e+06, 9.30000000e+06,\n",
       "       6.20000000e+06, 4.80000000e+07, 3.30000000e+07, 8.10000000e+06,\n",
       "       4.10000000e+07, 9.04000000e+05, 6.40000000e+06, 2.00000000e+06,\n",
       "       3.10000000e+06, 5.10000000e+06, 2.30000000e+07, 5.40000000e+06,\n",
       "       4.73000000e+05, 9.13000000e+05, 6.50000000e+06, 1.91000000e+05,\n",
       "       9.60000000e+06, 4.60000000e+07, 8.42000000e+05, 6.70000000e+06,\n",
       "       8.80000000e+06, 6.20000000e+07, 5.60000000e+06, 1.02000000e+06,\n",
       "       2.43000000e+05, 7.10000000e+06, 7.30000000e+07, 9.90000000e+07,\n",
       "       6.30000000e+06, 8.50000000e+06, 5.49000000e+05, 3.10000000e+07,\n",
       "       1.50000000e+06, 1.72000000e+05, 3.40000000e+07, 6.60000000e+07,\n",
       "       6.50000000e+07, 8.98000000e+05, 7.40000000e+07, 5.18000000e+05,\n",
       "       8.30000000e+07, 9.21000000e+05, 6.70000000e+07, 8.74000000e+05,\n",
       "       6.10000000e+06, 7.50000000e+07, 7.20000000e+06, 8.70000000e+07,\n",
       "       1.00000000e+06, 9.50000000e+06, 1.90000000e+06, 9.20000000e+06,\n",
       "       6.83000000e+05, 5.14000000e+05, 9.80000000e+07, 8.85000000e+05,\n",
       "       4.21000000e+05, 6.55000000e+05, 6.00000000e+07, 9.60000000e+07,\n",
       "       5.90000000e+07, 6.63000000e+05, 6.30000000e+07, 5.10000000e+07,\n",
       "       6.40000000e+07, 7.17000000e+05, 5.16000000e+05, 3.78000000e+05,\n",
       "       5.30000000e+07, 9.40000000e+07, 5.00000000e+07, 5.80000000e+07,\n",
       "       6.43000000e+05, 7.80000000e+07, 1.96000000e+05, 8.47000000e+05,\n",
       "       3.70000000e+07, 4.04000000e+05, 8.50000000e+07, 8.60000000e+07,\n",
       "       7.20000000e+07, 6.10000000e+07, 7.10000000e+07, 8.30000000e+06,\n",
       "       8.40000000e+07, 6.90000000e+07, 6.80000000e+06, 1.90000000e+05,\n",
       "       8.80000000e+07, 1.00000000e+08, 2.20000000e+05, 6.08000000e+05,\n",
       "       9.10000000e+07, 9.30000000e+07, 7.70000000e+07, 4.70000000e+06,\n",
       "       5.51000000e+05, 7.46000000e+05, 3.50000000e+05, 5.82000000e+05,\n",
       "       7.20000000e+04, 6.13000000e+05, 7.75000000e+05, 7.82000000e+05,\n",
       "       7.90000000e+04, 9.80000000e+05, 7.00000000e+07, 8.00000000e+07,\n",
       "       7.13000000e+05, 3.30000000e+04, 6.95000000e+05, 2.41000000e+05,\n",
       "       7.60000000e+07, 6.24000000e+05, 9.42000000e+05, 5.00000000e+05,\n",
       "       1.43000000e+05, 5.80000000e+04, 5.70000000e+07, 4.29000000e+05,\n",
       "       2.70000000e+04, 7.78000000e+05, 9.70000000e+07, 4.50000000e+04,\n",
       "       4.00000000e+05, 8.10000000e+07, 1.41000000e+05, 5.92000000e+05,\n",
       "       7.54000000e+05, 2.01000000e+05, 2.09000000e+05, 4.85000000e+05,\n",
       "       2.60000000e+04, 4.42000000e+05, 2.26000000e+05, 2.40000000e+05,\n",
       "       2.00000000e+04, 7.90000000e+07, 7.84000000e+05, 4.60000000e+05,\n",
       "       2.28000000e+05, 1.64000000e+05, 2.53000000e+05, 8.90000000e+07,\n",
       "       3.73000000e+05, 9.50000000e+07, 2.57000000e+05, 2.90000000e+04,\n",
       "       7.79000000e+05, 7.43000000e+05, 2.93000000e+05, 8.20000000e+07,\n",
       "       3.75000000e+05, 1.44000000e+05, 1.70000000e+05, 6.70000000e+04,\n",
       "       9.63000000e+05, 1.57000000e+05, 2.46000000e+05, 5.23000000e+05,\n",
       "       5.25000000e+05, 8.16000000e+05, 9.48000000e+05, 9.94000000e+05,\n",
       "       4.96000000e+05, 4.80000000e+04, 2.06000000e+05, 3.17000000e+05,\n",
       "       3.64000000e+05, 7.16000000e+05, 9.57000000e+05, 2.19000000e+05,\n",
       "       2.66000000e+05, 9.70000000e+05, 6.56000000e+05, 2.38000000e+05,\n",
       "       7.05000000e+05, 9.81000000e+05, 1.16000000e+05, 7.80000000e+04,\n",
       "       7.30000000e+05, 2.00000000e+05, 3.76000000e+05, 2.10000000e+05,\n",
       "       1.03000000e+05, 8.99000000e+05, 8.11000000e+05, 9.53000000e+05,\n",
       "       9.82000000e+05, 5.45000000e+05, 8.20000000e+04, 8.01000000e+05,\n",
       "       3.71000000e+05, 3.51000000e+05, 2.83000000e+05, 9.54000000e+05,\n",
       "       2.21000000e+05, 8.50000000e+03, 1.73000000e+05, 8.60000000e+05,\n",
       "       8.72000000e+05, 4.40000000e+04, 4.78000000e+05, 1.92000000e+05,\n",
       "       9.76000000e+05, 6.26000000e+05, 1.60000000e+05, 2.03000000e+05,\n",
       "       9.75000000e+05, 1.93000000e+05, 5.00000000e+04, 7.14000000e+05,\n",
       "       6.47000000e+05, 7.72000000e+05, 6.00000000e+05, 7.85000000e+05,\n",
       "       1.21000000e+05, 7.00000000e+04, 8.18000000e+05, 1.53000000e+05,\n",
       "       5.85000000e+05, 1.54000000e+05, 9.61000000e+05, 5.50000000e+04,\n",
       "       3.19000000e+05, 1.08000000e+05, 9.70000000e+04, 1.40000000e+04,\n",
       "       8.87000000e+05, 7.21000000e+05, 3.18000000e+05, 5.40000000e+05,\n",
       "       4.54000000e+05, 2.08000000e+05, 7.40000000e+04, 2.50000000e+04,\n",
       "       2.39000000e+05, 4.37000000e+05, 9.14000000e+05, 3.13000000e+05,\n",
       "       4.67000000e+05, 8.57000000e+05, 2.80000000e+05, 6.76000000e+05,\n",
       "       7.56000000e+05, 4.17000000e+05, 9.16000000e+05, 8.62000000e+05,\n",
       "       2.40000000e+04, 3.23000000e+05, 1.22000000e+05, 8.81000000e+05,\n",
       "       2.51000000e+05, 5.69000000e+05, 4.98000000e+05, 8.40000000e+05,\n",
       "       5.11000000e+05, 8.92000000e+05, 2.30000000e+04, 3.06000000e+05,\n",
       "       9.86000000e+05, 3.53000000e+05, 9.30000000e+05, 5.54000000e+05,\n",
       "       3.40000000e+04, 5.26000000e+05, 6.19000000e+05, 9.20000000e+05,\n",
       "       6.09000000e+05, 3.35000000e+05, 1.76000000e+05, 5.62000000e+05,\n",
       "       1.61000000e+05, 8.79000000e+05, 2.70000000e+05, 9.65000000e+05,\n",
       "       4.20000000e+05, 5.10000000e+04, 5.97000000e+05, 8.61000000e+05,\n",
       "       6.29000000e+05, 6.36000000e+05, 9.02000000e+05, 4.30000000e+05,\n",
       "       5.06000000e+05, 2.88000000e+05, 2.59000000e+05, 2.45000000e+05,\n",
       "       3.34000000e+05, 1.86000000e+05, 1.70000000e+04, 9.03000000e+05,\n",
       "       2.80000000e+04, 3.14000000e+05, 7.04000000e+05, 4.10000000e+04,\n",
       "       4.58000000e+05, 8.90000000e+04, 2.34000000e+05, 1.75000000e+05,\n",
       "       8.37000000e+05, 5.40000000e+04, 4.70000000e+05, 5.56000000e+05,\n",
       "       7.28000000e+05, 8.09000000e+05, 4.99000000e+05, 2.32000000e+05,\n",
       "       8.65000000e+05, 6.10000000e+04, 9.51000000e+05, 4.44000000e+05,\n",
       "       8.53000000e+05, 3.90000000e+04, 8.10000000e+04, 3.08000000e+05,\n",
       "       6.91000000e+05, 4.12000000e+05, 5.44000000e+05, 3.29000000e+05,\n",
       "       2.92000000e+05, 3.22000000e+05, 7.87000000e+05, 8.12000000e+05,\n",
       "       7.49000000e+05, 4.14000000e+05, 4.59000000e+05, 6.01000000e+05,\n",
       "       3.09000000e+05, 9.39000000e+05, 7.80000000e+05, 9.92000000e+05,\n",
       "       1.69000000e+05, 5.52000000e+05, 3.83000000e+05, 9.24000000e+05,\n",
       "       3.87000000e+05, 4.11000000e+05, 6.96000000e+05, 9.30000000e+04,\n",
       "       5.98000000e+05, 7.20000000e+05, 7.30000000e+04, 9.10000000e+04])"
      ]
     },
     "execution_count": 23,
     "metadata": {},
     "output_type": "execute_result"
    }
   ],
   "source": [
    "df['Size'].unique()"
   ]
  },
  {
   "cell_type": "code",
   "execution_count": 24,
   "metadata": {},
   "outputs": [
    {
     "data": {
      "text/plain": [
       "array(['4.0 and up', '4.0.3 and up', '4.3 and up', '4.1 and up',\n",
       "       '4.2 and up', '2.3 and up', 'Varies with device', '5.0 and up',\n",
       "       '4.4 and up', '6.0 and up', '1.6 and up', '2.1 and up',\n",
       "       '5.1 and up', '2.2 and up', '2.3.3 and up', '3.0 and up',\n",
       "       '3.2 and up', '4.4W and up', '1.5 and up', '3.1 and up',\n",
       "       '5.0 - 7.1.1', '7.0 and up', '8.0 and up', '2.0.1 and up',\n",
       "       '2.0 and up', '7.0 - 7.1.1', '4.0.3 - 7.1.1', '1.0 and up',\n",
       "       '5.0 - 8.0', '7.1 and up', '5.0 - 6.0', '2.2 - 7.1.1',\n",
       "       '4.1 - 7.1.1'], dtype=object)"
      ]
     },
     "execution_count": 24,
     "metadata": {},
     "output_type": "execute_result"
    }
   ],
   "source": [
    "# preprocessing the Android Ver column\n",
    "df['Android Ver'].unique()"
   ]
  },
  {
   "cell_type": "code",
   "execution_count": 25,
   "metadata": {},
   "outputs": [],
   "source": [
    "df['Android Ver'].replace('Varies with device', np.nan, inplace = True)"
   ]
  },
  {
   "cell_type": "code",
   "execution_count": 26,
   "metadata": {},
   "outputs": [],
   "source": [
    "#finding out the minimum android version supported for the apps\n",
    "\n",
    "df['min_android_version'] = df['Android Ver'].apply(lambda x: re.sub('[a-zA-Z]','', str(x)))"
   ]
  },
  {
   "cell_type": "code",
   "execution_count": 27,
   "metadata": {},
   "outputs": [
    {
     "data": {
      "text/plain": [
       "array(['4.0  ', '4.0.3  ', '4.3  ', '4.1  ', '4.2  ', '2.3  ', '',\n",
       "       '5.0  ', '4.4  ', '6.0  ', '1.6  ', '2.1  ', '5.1  ', '2.2  ',\n",
       "       '2.3.3  ', '3.0  ', '3.2  ', '1.5  ', '3.1  ', '5.0 - 7.1.1',\n",
       "       '7.0  ', '8.0  ', '2.0.1  ', '2.0  ', '7.0 - 7.1.1',\n",
       "       '4.0.3 - 7.1.1', '1.0  ', '5.0 - 8.0', '7.1  ', '5.0 - 6.0',\n",
       "       '2.2 - 7.1.1', '4.1 - 7.1.1'], dtype=object)"
      ]
     },
     "execution_count": 27,
     "metadata": {},
     "output_type": "execute_result"
    }
   ],
   "source": [
    "df['min_android_version'].unique()"
   ]
  },
  {
   "cell_type": "code",
   "execution_count": 28,
   "metadata": {},
   "outputs": [
    {
     "data": {
      "text/plain": [
       "App                      0\n",
       "Category                 0\n",
       "Rating                   0\n",
       "Reviews                  0\n",
       "Size                     0\n",
       "Installs                 0\n",
       "Type                     0\n",
       "Price                    0\n",
       "Content Rating           0\n",
       "Genres                   0\n",
       "Last Updated             0\n",
       "Current Ver              0\n",
       "Android Ver            989\n",
       "Install_num              0\n",
       "Price_usd                0\n",
       "Reviews_count            0\n",
       "min_android_version      0\n",
       "dtype: int64"
      ]
     },
     "execution_count": 28,
     "metadata": {},
     "output_type": "execute_result"
    }
   ],
   "source": [
    "df.isna().sum()"
   ]
  },
  {
   "cell_type": "code",
   "execution_count": 29,
   "metadata": {},
   "outputs": [
    {
     "data": {
      "text/html": [
       "<div>\n",
       "<style scoped>\n",
       "    .dataframe tbody tr th:only-of-type {\n",
       "        vertical-align: middle;\n",
       "    }\n",
       "\n",
       "    .dataframe tbody tr th {\n",
       "        vertical-align: top;\n",
       "    }\n",
       "\n",
       "    .dataframe thead th {\n",
       "        text-align: right;\n",
       "    }\n",
       "</style>\n",
       "<table border=\"1\" class=\"dataframe\">\n",
       "  <thead>\n",
       "    <tr style=\"text-align: right;\">\n",
       "      <th></th>\n",
       "      <th>App</th>\n",
       "      <th>Category</th>\n",
       "      <th>Rating</th>\n",
       "      <th>Size</th>\n",
       "      <th>Type</th>\n",
       "      <th>Content Rating</th>\n",
       "      <th>Genres</th>\n",
       "      <th>Last Updated</th>\n",
       "      <th>Current Ver</th>\n",
       "      <th>Install_num</th>\n",
       "      <th>Price_usd</th>\n",
       "      <th>Reviews_count</th>\n",
       "      <th>min_android_version</th>\n",
       "    </tr>\n",
       "  </thead>\n",
       "  <tbody>\n",
       "    <tr>\n",
       "      <th>5086</th>\n",
       "      <td>Apps for SportsBєtting.ag - Bitcoin Welcome here!</td>\n",
       "      <td>SPORTS</td>\n",
       "      <td>4.193338</td>\n",
       "      <td>10000000.0</td>\n",
       "      <td>Free</td>\n",
       "      <td>Everyone</td>\n",
       "      <td>Sports</td>\n",
       "      <td>December 11, 2017</td>\n",
       "      <td>1.0</td>\n",
       "      <td>1000.0</td>\n",
       "      <td>0.0</td>\n",
       "      <td>0</td>\n",
       "      <td>4.0</td>\n",
       "    </tr>\n",
       "    <tr>\n",
       "      <th>7728</th>\n",
       "      <td>HR Team CQ Region Ed Qld</td>\n",
       "      <td>BUSINESS</td>\n",
       "      <td>4.193338</td>\n",
       "      <td>4100000.0</td>\n",
       "      <td>Free</td>\n",
       "      <td>Everyone</td>\n",
       "      <td>Business</td>\n",
       "      <td>January 12, 2018</td>\n",
       "      <td>3.8</td>\n",
       "      <td>500.0</td>\n",
       "      <td>0.0</td>\n",
       "      <td>0</td>\n",
       "      <td>4.0.3</td>\n",
       "    </tr>\n",
       "    <tr>\n",
       "      <th>5165</th>\n",
       "      <td>Ferguson AH</td>\n",
       "      <td>MEDICAL</td>\n",
       "      <td>4.193338</td>\n",
       "      <td>29000000.0</td>\n",
       "      <td>Free</td>\n",
       "      <td>Everyone</td>\n",
       "      <td>Medical</td>\n",
       "      <td>July 17, 2017</td>\n",
       "      <td>300000.0.86</td>\n",
       "      <td>100.0</td>\n",
       "      <td>0.0</td>\n",
       "      <td>0</td>\n",
       "      <td>4.0.3</td>\n",
       "    </tr>\n",
       "    <tr>\n",
       "      <th>5162</th>\n",
       "      <td>Hilltop AH</td>\n",
       "      <td>MEDICAL</td>\n",
       "      <td>4.193338</td>\n",
       "      <td>29000000.0</td>\n",
       "      <td>Free</td>\n",
       "      <td>Everyone</td>\n",
       "      <td>Medical</td>\n",
       "      <td>January 10, 2018</td>\n",
       "      <td>300000.0.96</td>\n",
       "      <td>100.0</td>\n",
       "      <td>0.0</td>\n",
       "      <td>0</td>\n",
       "      <td>4.0.3</td>\n",
       "    </tr>\n",
       "    <tr>\n",
       "      <th>5161</th>\n",
       "      <td>Bayview Hill AH</td>\n",
       "      <td>MEDICAL</td>\n",
       "      <td>4.193338</td>\n",
       "      <td>29000000.0</td>\n",
       "      <td>Free</td>\n",
       "      <td>Everyone</td>\n",
       "      <td>Medical</td>\n",
       "      <td>June 6, 2018</td>\n",
       "      <td>300000.1.08</td>\n",
       "      <td>50.0</td>\n",
       "      <td>0.0</td>\n",
       "      <td>0</td>\n",
       "      <td>4.0.3</td>\n",
       "    </tr>\n",
       "  </tbody>\n",
       "</table>\n",
       "</div>"
      ],
      "text/plain": [
       "                                                    App  Category    Rating  \\\n",
       "5086  Apps for SportsBєtting.ag - Bitcoin Welcome here!    SPORTS  4.193338   \n",
       "7728                           HR Team CQ Region Ed Qld  BUSINESS  4.193338   \n",
       "5165                                        Ferguson AH   MEDICAL  4.193338   \n",
       "5162                                         Hilltop AH   MEDICAL  4.193338   \n",
       "5161                                    Bayview Hill AH   MEDICAL  4.193338   \n",
       "\n",
       "            Size  Type Content Rating    Genres       Last Updated  \\\n",
       "5086  10000000.0  Free       Everyone    Sports  December 11, 2017   \n",
       "7728   4100000.0  Free       Everyone  Business   January 12, 2018   \n",
       "5165  29000000.0  Free       Everyone   Medical      July 17, 2017   \n",
       "5162  29000000.0  Free       Everyone   Medical   January 10, 2018   \n",
       "5161  29000000.0  Free       Everyone   Medical       June 6, 2018   \n",
       "\n",
       "      Current Ver  Install_num  Price_usd  Reviews_count min_android_version  \n",
       "5086          1.0       1000.0        0.0              0               4.0    \n",
       "7728          3.8        500.0        0.0              0             4.0.3    \n",
       "5165  300000.0.86        100.0        0.0              0             4.0.3    \n",
       "5162  300000.0.96        100.0        0.0              0             4.0.3    \n",
       "5161  300000.1.08         50.0        0.0              0             4.0.3    "
      ]
     },
     "execution_count": 29,
     "metadata": {},
     "output_type": "execute_result"
    }
   ],
   "source": [
    "# dropping the unwanted columns\n",
    "data = df.drop(['Reviews','Installs','Price','Android Ver'],axis='columns')\n",
    "data.head()"
   ]
  },
  {
   "cell_type": "code",
   "execution_count": 30,
   "metadata": {},
   "outputs": [
    {
     "ename": "NameError",
     "evalue": "name 'pandas_profiling' is not defined",
     "output_type": "error",
     "traceback": [
      "\u001b[0;31m---------------------------------------------------------------------------\u001b[0m",
      "\u001b[0;31mNameError\u001b[0m                                 Traceback (most recent call last)",
      "\u001b[0;32m<ipython-input-30-b232bf366e9b>\u001b[0m in \u001b[0;36m<module>\u001b[0;34m\u001b[0m\n\u001b[1;32m      1\u001b[0m \u001b[0;31m# show a general summary of the data\u001b[0m\u001b[0;34m\u001b[0m\u001b[0;34m\u001b[0m\u001b[0;34m\u001b[0m\u001b[0m\n\u001b[0;32m----> 2\u001b[0;31m \u001b[0mpandas_profiling\u001b[0m\u001b[0;34m.\u001b[0m\u001b[0mProfileReport\u001b[0m\u001b[0;34m(\u001b[0m\u001b[0mdata\u001b[0m\u001b[0;34m)\u001b[0m\u001b[0;34m\u001b[0m\u001b[0;34m\u001b[0m\u001b[0m\n\u001b[0m",
      "\u001b[0;31mNameError\u001b[0m: name 'pandas_profiling' is not defined"
     ]
    }
   ],
   "source": [
    "# show a general summary of the data\n",
    "pandas_profiling.ProfileReport(data)"
   ]
  },
  {
   "cell_type": "code",
   "execution_count": null,
   "metadata": {},
   "outputs": [],
   "source": []
  }
 ],
 "metadata": {
  "kernelspec": {
   "display_name": "Python 3",
   "language": "python",
   "name": "python3"
  },
  "language_info": {
   "codemirror_mode": {
    "name": "ipython",
    "version": 3
   },
   "file_extension": ".py",
   "mimetype": "text/x-python",
   "name": "python",
   "nbconvert_exporter": "python",
   "pygments_lexer": "ipython3",
   "version": "3.8.3"
  }
 },
 "nbformat": 4,
 "nbformat_minor": 4
}
